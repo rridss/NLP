{
  "nbformat": 4,
  "nbformat_minor": 0,
  "metadata": {
    "colab": {
      "provenance": [],
      "authorship_tag": "ABX9TyOVBKL/G34nxY1NNwOLQXH1",
      "include_colab_link": true
    },
    "kernelspec": {
      "name": "python3",
      "display_name": "Python 3"
    },
    "language_info": {
      "name": "python"
    }
  },
  "cells": [
    {
      "cell_type": "markdown",
      "metadata": {
        "id": "view-in-github",
        "colab_type": "text"
      },
      "source": [
        "<a href=\"https://colab.research.google.com/github/rridss/NLP/blob/main/nlp7th.ipynb\" target=\"_parent\"><img src=\"https://colab.research.google.com/assets/colab-badge.svg\" alt=\"Open In Colab\"/></a>"
      ]
    },
    {
      "cell_type": "markdown",
      "source": [
        "##EXPERIMENT-7:\n",
        "## POS-Tagging"
      ],
      "metadata": {
        "id": "VJiERX-A1DFY"
      }
    },
    {
      "cell_type": "code",
      "execution_count": null,
      "metadata": {
        "colab": {
          "base_uri": "https://localhost:8080/"
        },
        "id": "0Ec6IqKN0r6L",
        "outputId": "0309e733-cfe2-411a-efa6-a8208023d07a"
      },
      "outputs": [
        {
          "output_type": "stream",
          "name": "stderr",
          "text": [
            "[nltk_data] Downloading package punkt to /root/nltk_data...\n",
            "[nltk_data]   Unzipping tokenizers/punkt.zip.\n"
          ]
        },
        {
          "output_type": "stream",
          "name": "stdout",
          "text": [
            "Text:\n",
            "The world is full of wonders and mysteries, waiting to be discovered.\n",
            "         Every corner holds a new adventure, a new story waiting to be told.\n",
            "         From the highest mountains to the deepest oceans, there is beauty beyond compare.\n",
            "         Life is a journey, and every step brings us closer to understanding the world around us.\n",
            "         So let's embrace the unknown, for it is in the unknown that we find the greatest treasures.\n",
            "\n"
          ]
        },
        {
          "output_type": "stream",
          "name": "stderr",
          "text": [
            "[nltk_data] Downloading package averaged_perceptron_tagger to\n",
            "[nltk_data]     /root/nltk_data...\n",
            "[nltk_data]   Package averaged_perceptron_tagger is already up-to-\n",
            "[nltk_data]       date!\n"
          ]
        }
      ],
      "source": [
        "import nltk\n",
        "from nltk.tokenize import word_tokenize\n",
        "nltk.download('punkt')\n",
        "nltk.download('averaged_perceptron_tagger')\n",
        "\n",
        "def tag_and_categorize(text):\n",
        "    words = word_tokenize(text)\n",
        "    tagged_words = nltk.pos_tag(words)\n",
        "    categorized_words = []\n",
        "    for word, tag in tagged_words:\n",
        "        if word.lower() == 'the':\n",
        "            category = 'Article'\n",
        "        elif tag.startswith('N'):\n",
        "            category = 'Noun'\n",
        "        elif tag.startswith('V'):\n",
        "            category = 'Verb'\n",
        "        elif tag.startswith('R'):\n",
        "            category = 'Adverb'\n",
        "        else:\n",
        "            category = 'Other'\n",
        "        categorized_words.append((word, category))\n",
        "    return tagged_words, categorized_words\n",
        "\n",
        "text = \"\"\"The world is full of wonders and mysteries, waiting to be discovered.\n",
        "         Every corner holds a new adventure, a new story waiting to be told.\n",
        "         From the highest mountains to the deepest oceans, there is beauty beyond compare.\n",
        "         Life is a journey, and every step brings us closer to understanding the world around us.\n",
        "         So let's embrace the unknown, for it is in the unknown that we find the greatest treasures.\"\"\"\n",
        "\n",
        "print(\"Text:\")\n",
        "print(text)\n",
        "print()\n",
        "\n",
        "\n"
      ]
    },
    {
      "cell_type": "code",
      "source": [
        "tagged_words, categorized_words = tag_and_categorize(text)\n",
        "\n",
        "print(\"Tagged words:\")\n",
        "count = 0\n",
        "for word, tag in tagged_words:\n",
        "    print(f\"({word}, {tag})\", end=\" \")\n",
        "    count += 1\n",
        "    if count % 20 == 0:\n",
        "        print()\n",
        "if count % 20 != 0:\n",
        "    print()\n",
        "\n",
        "print()\n",
        "print ()\n",
        "print(\"---------------------------------------------------------------\")\n",
        "print()\n",
        "print(\"Categorized words:\")\n",
        "count = 0\n",
        "for word, category in categorized_words:\n",
        "    print(f\"({word}, {category})\", end=\" \")\n",
        "    count += 1\n",
        "    if count % 20 == 0:\n",
        "        print()\n",
        "if count % 20 != 0:\n",
        "    print()"
      ],
      "metadata": {
        "colab": {
          "base_uri": "https://localhost:8080/"
        },
        "id": "bywnQRkq1ln6",
        "outputId": "4a8e4354-b8d4-40e9-aea6-6a41c0ea9e9f"
      },
      "execution_count": null,
      "outputs": [
        {
          "output_type": "stream",
          "name": "stdout",
          "text": [
            "Tagged words:\n",
            "(The, DT) (world, NN) (is, VBZ) (full, JJ) (of, IN) (wonders, NNS) (and, CC) (mysteries, NNS) (,, ,) (waiting, VBG) (to, TO) (be, VB) (discovered, VBN) (., .) (Every, DT) (corner, NN) (holds, VBZ) (a, DT) (new, JJ) (adventure, NN) \n",
            "(,, ,) (a, DT) (new, JJ) (story, NN) (waiting, VBG) (to, TO) (be, VB) (told, VBN) (., .) (From, IN) (the, DT) (highest, JJS) (mountains, NNS) (to, TO) (the, DT) (deepest, JJS) (oceans, NNS) (,, ,) (there, EX) (is, VBZ) \n",
            "(beauty, JJ) (beyond, IN) (compare, NN) (., .) (Life, NNP) (is, VBZ) (a, DT) (journey, NN) (,, ,) (and, CC) (every, DT) (step, NN) (brings, VBZ) (us, PRP) (closer, JJR) (to, TO) (understanding, VBG) (the, DT) (world, NN) (around, IN) \n",
            "(us, PRP) (., .) (So, NNP) (let, NN) ('s, POS) (embrace, VB) (the, DT) (unknown, JJ) (,, ,) (for, IN) (it, PRP) (is, VBZ) (in, IN) (the, DT) (unknown, JJ) (that, IN) (we, PRP) (find, VBP) (the, DT) (greatest, JJS) \n",
            "(treasures, NNS) (., .) \n",
            "\n",
            "\n",
            "---------------------------------------------------------------\n",
            "\n",
            "Categorized words:\n",
            "(The, Article) (world, Noun) (is, Verb) (full, Other) (of, Other) (wonders, Noun) (and, Other) (mysteries, Noun) (,, Other) (waiting, Verb) (to, Other) (be, Verb) (discovered, Verb) (., Other) (Every, Other) (corner, Noun) (holds, Verb) (a, Other) (new, Other) (adventure, Noun) \n",
            "(,, Other) (a, Other) (new, Other) (story, Noun) (waiting, Verb) (to, Other) (be, Verb) (told, Verb) (., Other) (From, Other) (the, Article) (highest, Other) (mountains, Noun) (to, Other) (the, Article) (deepest, Other) (oceans, Noun) (,, Other) (there, Other) (is, Verb) \n",
            "(beauty, Other) (beyond, Other) (compare, Noun) (., Other) (Life, Noun) (is, Verb) (a, Other) (journey, Noun) (,, Other) (and, Other) (every, Other) (step, Noun) (brings, Verb) (us, Other) (closer, Other) (to, Other) (understanding, Verb) (the, Article) (world, Noun) (around, Other) \n",
            "(us, Other) (., Other) (So, Noun) (let, Noun) ('s, Other) (embrace, Verb) (the, Article) (unknown, Other) (,, Other) (for, Other) (it, Other) (is, Verb) (in, Other) (the, Article) (unknown, Other) (that, Other) (we, Other) (find, Verb) (the, Article) (greatest, Other) \n",
            "(treasures, Noun) (., Other) \n"
          ]
        }
      ]
    }
  ]
}